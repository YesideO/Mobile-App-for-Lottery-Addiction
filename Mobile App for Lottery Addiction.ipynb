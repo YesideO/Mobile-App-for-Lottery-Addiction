{
 "cells": [
  {
   "cell_type": "markdown",
   "metadata": {},
   "source": [
    "# Mobile App To Deal With Lottery Addiction"
   ]
  },
  {
   "cell_type": "markdown",
   "metadata": {},
   "source": [
    "## Introduction"
   ]
  },
  {
   "cell_type": "markdown",
   "metadata": {},
   "source": [
    "For a good number of people, playing lottery often starts as a fun activity. Yet, for some other people, this activity may grow into a habit that may eventually become an addiction.\n",
    "\n",
    "As with other people who gamble compulsively, it is not unusual for lottery addicts to start to spend from their savings or loans, accumulate debts from borrowing or develop more desperate traits like theft. \n",
    "\n",
    "A medical institute with the aim to prevent and treat these gambling addictions will like to build a mobile app that helps lottery addicts with better estimates of their winning chances.\n",
    "\n",
    "While there are developers who are on standby to build the app, the institute needs us to create the logic of the app and calculate the probabilities.\n",
    "\n",
    "The medical institute will like us to zero in on the [6/49 lottery](https://en.wikipedia.org/wiki/Lotto_6/49) and develop functions that wil help users answer these kind of questions:\n",
    "\n",
    "- What is the probability that I will win the big prize with just one ticket?\n",
    "- What is the probability that I will win the big prize if I play multiple tickets?\n",
    "- What is the probability that I will have at least five winning numbers on just one winning ticket?\n",
    "\n",
    "For the purpose of this project, the institute will like us to consider historical data from the national 6/49 lottery game in Canada. [This data set is available on Kaggle](https://www.kaggle.com/datascienceai/lottery-dataset) and contains data for 3,665 drawings made between 1982 and 2018."
   ]
  },
  {
   "cell_type": "markdown",
   "metadata": {
    "collapsed": true
   },
   "source": [
    "## Helper Functions"
   ]
  },
  {
   "cell_type": "markdown",
   "metadata": {},
   "source": [
    "Since we want to write code that helps users answer probability questions on lottery playing, we will need to calculate probabilites and combinations repeatedly and throughout the course of the project.\n",
    "\n",
    "The way the 6/49 lottery works is that 6 numbers are drawn from 49 numbers ranging from 1 to 49. Each draw is done without a replacement. This means that a number cannot be put back into the set once it has been drawn.\n",
    "\n",
    "That being said, in writing our code, we will start by writing 2 helper functions that we will be using often:\n",
    "- A function to calculate factorials.\n",
    "- A function to calculate combinations.\n",
    "\n",
    "Here is the formula for calculating factorials:\n",
    "\n",
    "<img src=\"files/image1.PNG\" />\n",
    "\n",
    "\n",
    "To find the number of combinations in this scenario where we are taking *k* objects out of *n* objects, we will use the formula below:\n",
    "<img src=\"files/image2.PNG\" />\n",
    "\n",
    "Now that we've established the basics, let's write our two helper functions using the formulas above."
   ]
  },
  {
   "cell_type": "code",
   "execution_count": 1,
   "metadata": {},
   "outputs": [],
   "source": [
    "def factorial(n):            #calculates factorials\n",
    "    final_product = 1\n",
    "    for i in range(n, 0, -1):\n",
    "        final_product *= i\n",
    "    return final_product"
   ]
  },
  {
   "cell_type": "code",
   "execution_count": 2,
   "metadata": {},
   "outputs": [],
   "source": [
    "def combinations(n, k):      #calculates combinations\n",
    "    numerator = factorial(n)\n",
    "    denominator = factorial(n-k)\n",
    "    return (numerator/denominator)/ factorial(k)"
   ]
  },
  {
   "cell_type": "markdown",
   "metadata": {},
   "source": [
    "## Probability of Winning the Big Prize with a Single Ticket"
   ]
  },
  {
   "cell_type": "markdown",
   "metadata": {},
   "source": [
    "Recall that the first question we hope the app will helps users answer is **'What is the probability that I will win the big prize with just one ticket?'**\n",
    "\n",
    "Remember also that with the 6/49 lottery, a player chooses 6 out of 49 numbers for a single ticket. \n",
    "\n",
    "So, the next step is to write a function that calculates the probability that a user will win the big prize for any ticket.\n",
    "\n",
    "Meanwhile, based on one of our discussions with the team of developers, we will be considering the following details when writing the function:\n",
    "\n",
    "- To use the lottery app, the user will input 6 different numbers from 1 to 49.\n",
    "- The 6 numbers will be presented as a Python list under the hood and will serve as the input to our function.\n",
    "- The function has to print in such a friendly way that a user with no knowledge of probability concepts can understand."
   ]
  },
  {
   "cell_type": "code",
   "execution_count": 3,
   "metadata": {},
   "outputs": [],
   "source": [
    "def one_ticket_probability(your_six_numbers):\n",
    "    k = len(your_six_numbers)\n",
    "    n = 49\n",
    "    possible_outcomes = combinations(n,k)\n",
    "    successful_outcomes = 1\n",
    "    probability = successful_outcomes / possible_outcomes * 100\n",
    "    return print('''You have a {:.7f}% chance of winning the big prize with a single ticket when you use the numbers {}!\n",
    "This means you have 1 in {:,} chances of winning.'''.format(probability, your_six_numbers, int(possible_outcomes)))"
   ]
  },
  {
   "cell_type": "markdown",
   "metadata": {},
   "source": [
    "Let's test the function with a list of 6 numbers.."
   ]
  },
  {
   "cell_type": "code",
   "execution_count": 4,
   "metadata": {},
   "outputs": [
    {
     "name": "stdout",
     "output_type": "stream",
     "text": [
      "You have a 0.0000072% chance of winning the big prize with a single ticket when you use the numbers [1, 3, 4, 6, 49, 8]!\n",
      "This means you have 1 in 13,983,816 chances of winning.\n"
     ]
    }
   ],
   "source": [
    "one_ticket_probability([1,3,4,6,49,8])"
   ]
  },
  {
   "cell_type": "markdown",
   "metadata": {
    "collapsed": true
   },
   "source": [
    "## Checking Historical Data for the 6/49 Lottery in Canada"
   ]
  },
  {
   "cell_type": "markdown",
   "metadata": {},
   "source": [
    "In the previous step, we developed a function that helps users determine the probability of winning the big prize with just one ticket.\n",
    "\n",
    "We also think users should be able to compare their ticket with historical data from the lottery in Canada. Doing this will help them know if they should have won by now.\n",
    "\n",
    "Let's explore the Canada 6/49 lottery data..."
   ]
  },
  {
   "cell_type": "code",
   "execution_count": 5,
   "metadata": {},
   "outputs": [
    {
     "data": {
      "text/plain": [
       "(3665, 11)"
      ]
     },
     "execution_count": 5,
     "metadata": {},
     "output_type": "execute_result"
    }
   ],
   "source": [
    "import pandas as pd\n",
    "canada_lottery = pd.read_csv(\"649.csv\")\n",
    "canada_lottery.shape"
   ]
  },
  {
   "cell_type": "code",
   "execution_count": 6,
   "metadata": {},
   "outputs": [
    {
     "data": {
      "text/html": [
       "<div>\n",
       "<style scoped>\n",
       "    .dataframe tbody tr th:only-of-type {\n",
       "        vertical-align: middle;\n",
       "    }\n",
       "\n",
       "    .dataframe tbody tr th {\n",
       "        vertical-align: top;\n",
       "    }\n",
       "\n",
       "    .dataframe thead th {\n",
       "        text-align: right;\n",
       "    }\n",
       "</style>\n",
       "<table border=\"1\" class=\"dataframe\">\n",
       "  <thead>\n",
       "    <tr style=\"text-align: right;\">\n",
       "      <th></th>\n",
       "      <th>PRODUCT</th>\n",
       "      <th>DRAW NUMBER</th>\n",
       "      <th>SEQUENCE NUMBER</th>\n",
       "      <th>DRAW DATE</th>\n",
       "      <th>NUMBER DRAWN 1</th>\n",
       "      <th>NUMBER DRAWN 2</th>\n",
       "      <th>NUMBER DRAWN 3</th>\n",
       "      <th>NUMBER DRAWN 4</th>\n",
       "      <th>NUMBER DRAWN 5</th>\n",
       "      <th>NUMBER DRAWN 6</th>\n",
       "      <th>BONUS NUMBER</th>\n",
       "    </tr>\n",
       "  </thead>\n",
       "  <tbody>\n",
       "    <tr>\n",
       "      <th>0</th>\n",
       "      <td>649</td>\n",
       "      <td>1</td>\n",
       "      <td>0</td>\n",
       "      <td>6/12/1982</td>\n",
       "      <td>3</td>\n",
       "      <td>11</td>\n",
       "      <td>12</td>\n",
       "      <td>14</td>\n",
       "      <td>41</td>\n",
       "      <td>43</td>\n",
       "      <td>13</td>\n",
       "    </tr>\n",
       "    <tr>\n",
       "      <th>1</th>\n",
       "      <td>649</td>\n",
       "      <td>2</td>\n",
       "      <td>0</td>\n",
       "      <td>6/19/1982</td>\n",
       "      <td>8</td>\n",
       "      <td>33</td>\n",
       "      <td>36</td>\n",
       "      <td>37</td>\n",
       "      <td>39</td>\n",
       "      <td>41</td>\n",
       "      <td>9</td>\n",
       "    </tr>\n",
       "    <tr>\n",
       "      <th>2</th>\n",
       "      <td>649</td>\n",
       "      <td>3</td>\n",
       "      <td>0</td>\n",
       "      <td>6/26/1982</td>\n",
       "      <td>1</td>\n",
       "      <td>6</td>\n",
       "      <td>23</td>\n",
       "      <td>24</td>\n",
       "      <td>27</td>\n",
       "      <td>39</td>\n",
       "      <td>34</td>\n",
       "    </tr>\n",
       "  </tbody>\n",
       "</table>\n",
       "</div>"
      ],
      "text/plain": [
       "   PRODUCT  DRAW NUMBER  SEQUENCE NUMBER  DRAW DATE  NUMBER DRAWN 1  \\\n",
       "0      649            1                0  6/12/1982               3   \n",
       "1      649            2                0  6/19/1982               8   \n",
       "2      649            3                0  6/26/1982               1   \n",
       "\n",
       "   NUMBER DRAWN 2  NUMBER DRAWN 3  NUMBER DRAWN 4  NUMBER DRAWN 5  \\\n",
       "0              11              12              14              41   \n",
       "1              33              36              37              39   \n",
       "2               6              23              24              27   \n",
       "\n",
       "   NUMBER DRAWN 6  BONUS NUMBER  \n",
       "0              43            13  \n",
       "1              41             9  \n",
       "2              39            34  "
      ]
     },
     "execution_count": 6,
     "metadata": {},
     "output_type": "execute_result"
    }
   ],
   "source": [
    "canada_lottery.head(3)"
   ]
  },
  {
   "cell_type": "code",
   "execution_count": 7,
   "metadata": {},
   "outputs": [
    {
     "data": {
      "text/html": [
       "<div>\n",
       "<style scoped>\n",
       "    .dataframe tbody tr th:only-of-type {\n",
       "        vertical-align: middle;\n",
       "    }\n",
       "\n",
       "    .dataframe tbody tr th {\n",
       "        vertical-align: top;\n",
       "    }\n",
       "\n",
       "    .dataframe thead th {\n",
       "        text-align: right;\n",
       "    }\n",
       "</style>\n",
       "<table border=\"1\" class=\"dataframe\">\n",
       "  <thead>\n",
       "    <tr style=\"text-align: right;\">\n",
       "      <th></th>\n",
       "      <th>PRODUCT</th>\n",
       "      <th>DRAW NUMBER</th>\n",
       "      <th>SEQUENCE NUMBER</th>\n",
       "      <th>DRAW DATE</th>\n",
       "      <th>NUMBER DRAWN 1</th>\n",
       "      <th>NUMBER DRAWN 2</th>\n",
       "      <th>NUMBER DRAWN 3</th>\n",
       "      <th>NUMBER DRAWN 4</th>\n",
       "      <th>NUMBER DRAWN 5</th>\n",
       "      <th>NUMBER DRAWN 6</th>\n",
       "      <th>BONUS NUMBER</th>\n",
       "    </tr>\n",
       "  </thead>\n",
       "  <tbody>\n",
       "    <tr>\n",
       "      <th>3662</th>\n",
       "      <td>649</td>\n",
       "      <td>3589</td>\n",
       "      <td>0</td>\n",
       "      <td>6/13/2018</td>\n",
       "      <td>6</td>\n",
       "      <td>22</td>\n",
       "      <td>24</td>\n",
       "      <td>31</td>\n",
       "      <td>32</td>\n",
       "      <td>34</td>\n",
       "      <td>16</td>\n",
       "    </tr>\n",
       "    <tr>\n",
       "      <th>3663</th>\n",
       "      <td>649</td>\n",
       "      <td>3590</td>\n",
       "      <td>0</td>\n",
       "      <td>6/16/2018</td>\n",
       "      <td>2</td>\n",
       "      <td>15</td>\n",
       "      <td>21</td>\n",
       "      <td>31</td>\n",
       "      <td>38</td>\n",
       "      <td>49</td>\n",
       "      <td>8</td>\n",
       "    </tr>\n",
       "    <tr>\n",
       "      <th>3664</th>\n",
       "      <td>649</td>\n",
       "      <td>3591</td>\n",
       "      <td>0</td>\n",
       "      <td>6/20/2018</td>\n",
       "      <td>14</td>\n",
       "      <td>24</td>\n",
       "      <td>31</td>\n",
       "      <td>35</td>\n",
       "      <td>37</td>\n",
       "      <td>48</td>\n",
       "      <td>17</td>\n",
       "    </tr>\n",
       "  </tbody>\n",
       "</table>\n",
       "</div>"
      ],
      "text/plain": [
       "      PRODUCT  DRAW NUMBER  SEQUENCE NUMBER  DRAW DATE  NUMBER DRAWN 1  \\\n",
       "3662      649         3589                0  6/13/2018               6   \n",
       "3663      649         3590                0  6/16/2018               2   \n",
       "3664      649         3591                0  6/20/2018              14   \n",
       "\n",
       "      NUMBER DRAWN 2  NUMBER DRAWN 3  NUMBER DRAWN 4  NUMBER DRAWN 5  \\\n",
       "3662              22              24              31              32   \n",
       "3663              15              21              31              38   \n",
       "3664              24              31              35              37   \n",
       "\n",
       "      NUMBER DRAWN 6  BONUS NUMBER  \n",
       "3662              34            16  \n",
       "3663              49             8  \n",
       "3664              48            17  "
      ]
     },
     "execution_count": 7,
     "metadata": {},
     "output_type": "execute_result"
    }
   ],
   "source": [
    "canada_lottery.tail(3)"
   ]
  },
  {
   "cell_type": "markdown",
   "metadata": {},
   "source": [
    "<u>**About the Data Set**</u>\n",
    "\n",
    "- This dataset has 3,665 rows and 11 columns.\n",
    "- Each row in the data set represents data for a single drawing dating between 1982 and 2018.\n",
    "- The 6 numbers selected for each drawing in the data set are in the following columns:\n",
    " - NUMBER DRAWN 1\n",
    " - NUMBER DRAWN 2\n",
    " - NUMBER DRAWN 3\n",
    " - NUMBER DRAWN 4\n",
    " - NUMBER DRAWN 5\n",
    " - NUMBER DRAWN 6"
   ]
  },
  {
   "cell_type": "markdown",
   "metadata": {},
   "source": [
    "## Comparing a Ticket with Historical Data"
   ]
  },
  {
   "cell_type": "markdown",
   "metadata": {},
   "source": [
    "In this section, we will write a function that helps users compare their ticket with historical data from the Canada lottery.\n",
    "\n",
    "Here are a few things that the developers want us to consider when we write the function:\n",
    "\n",
    "- To use the lottery app, the user will input 6 different numbers from 1 to 49.\n",
    "- The 6 numbers will be presented as a Python list under the hood and will serve as the input to our function.\n",
    "- The function will print:\n",
    " - the frequency of the selected combination in the Canada data set\n",
    " - the probability of winning the big prize with the selected combination in the next drawing.\n",
    " \n"
   ]
  },
  {
   "cell_type": "code",
   "execution_count": 8,
   "metadata": {},
   "outputs": [
    {
     "data": {
      "text/plain": [
       "0    {3, 41, 11, 12, 43, 14}\n",
       "1    {33, 36, 37, 39, 8, 41}\n",
       "2     {1, 6, 39, 23, 24, 27}\n",
       "3     {3, 9, 10, 43, 13, 20}\n",
       "4    {34, 5, 14, 47, 21, 31}\n",
       "dtype: object"
      ]
     },
     "execution_count": 8,
     "metadata": {},
     "output_type": "execute_result"
    }
   ],
   "source": [
    "# Extracts all the winning six numbers from the canada_lottery data \n",
    "def extract_numbers(row):\n",
    "    row = row[4:10]\n",
    "    row = set(row.values)\n",
    "    return row\n",
    "\n",
    "# applying extract_numbers() to canada_lottery\n",
    "winning_numbers = canada_lottery.apply(extract_numbers, axis=1)\n",
    "winning_numbers.head(5)"
   ]
  },
  {
   "cell_type": "code",
   "execution_count": 9,
   "metadata": {},
   "outputs": [],
   "source": [
    "def check_historical_occurence(your_6_numbers, winning_numbers):\n",
    "    your_6_numbers = set(your_6_numbers)\n",
    "    occurrence = your_6_numbers == winning_numbers\n",
    "    frequency_of_occurrence = occurrence.sum()\n",
    "    if frequency_of_occurrence > 0:\n",
    "        print(\"This combination of 6 numbers has occurred {} time(s) in the past.\".format(frequency_of_occurrence))\n",
    "        print(\"You have a 0.0000072% chance of winning the big prize in the next drawing when you use this combination of numbers.\")\n",
    "    else:\n",
    "        print(\"This combination of 6 numbers has never occurred in the past.\")\n",
    "        print('''But it doesn't mean it is likely to occur now. \n",
    "You have a 0.0000072% chance of winning the big prize in the next drawing when you use this combination of numbers.''')"
   ]
  },
  {
   "cell_type": "markdown",
   "metadata": {},
   "source": [
    "Let's test this function on a combination of 6 numbers..."
   ]
  },
  {
   "cell_type": "code",
   "execution_count": 10,
   "metadata": {},
   "outputs": [
    {
     "name": "stdout",
     "output_type": "stream",
     "text": [
      "This combination of 6 numbers has never occurred in the past.\n",
      "But it doesn't mean it is likely to occur now. \n",
      "You have a 0.0000072% chance of winning the big prize in the next drawing when you use this combination of numbers.\n"
     ]
    }
   ],
   "source": [
    "testing_1 = [1,4,5,6,7,37]\n",
    "check_historical_occurence(testing_1, winning_numbers)"
   ]
  },
  {
   "cell_type": "code",
   "execution_count": 11,
   "metadata": {},
   "outputs": [
    {
     "name": "stdout",
     "output_type": "stream",
     "text": [
      "This combination of 6 numbers has occurred 1 time(s) in the past.\n",
      "You have a 0.0000072% chance of winning the big prize in the next drawing when you use this combination of numbers.\n"
     ]
    }
   ],
   "source": [
    "testing_2 = [6, 22, 24, 31, 32, 34]\n",
    "check_historical_occurence(testing_2, winning_numbers)"
   ]
  },
  {
   "cell_type": "markdown",
   "metadata": {
    "collapsed": true
   },
   "source": [
    "## Probability of Winning the Big Prize with Multiple Tickets"
   ]
  },
  {
   "cell_type": "markdown",
   "metadata": {},
   "source": [
    "So far, we've been able to build a function that calculates the probability of winning the big prize with just one ticket and another function that checks the occurence of a combination of numbers in the Canada lottery data set.\n",
    "\n",
    "However, lottery addicts usually don't pay a single ticket. They often play multiple tickets because they think their chances of winning will increase significantly when they play more tickets.\n",
    "\n",
    "In this section, we will help them with better estimates of their chances by writing a function that helps a user calculate their chances of winning with any number of tickets.\n",
    "\n",
    "Here are a few important details we will be considering when we write the function:\n",
    "- Users will input the number of different tickets they will like to play without indicating the combinations they want to play.\n",
    "- The function will receive integers ranging betwen 1 and 13,983,816 as input.\n",
    "- The function should print a personalized message about the chances of wining the big prize based on the number of different tickets inputted.\n",
    "\n",
    "Let's write the function..."
   ]
  },
  {
   "cell_type": "code",
   "execution_count": 12,
   "metadata": {},
   "outputs": [],
   "source": [
    "def multi_ticket_probability(number_of_tickets):\n",
    "    \n",
    "    tot_possible_outcomes = combinations(49, 6)\n",
    "    tot_successful_outcomes = number_of_tickets\n",
    "    \n",
    "    probability = tot_successful_outcomes / tot_possible_outcomes * 100\n",
    "    combinations_rounded = round(tot_possible_outcomes / number_of_tickets)\n",
    "    print('''You have a {:.7f}% chance of winning the big prize when you play {} ticket(s).\n",
    "This means you have 1 in {:,} chances of winning.'''.format(probability, number_of_tickets, combinations_rounded))"
   ]
  },
  {
   "cell_type": "markdown",
   "metadata": {},
   "source": [
    "Let's test the function with the numbers in the list [1, 10, 100, 10000, 1000000, 6991908, 13983816]"
   ]
  },
  {
   "cell_type": "code",
   "execution_count": 13,
   "metadata": {},
   "outputs": [
    {
     "name": "stdout",
     "output_type": "stream",
     "text": [
      "You have a 0.0000072% chance of winning the big prize when you play 1 ticket(s).\n",
      "This means you have 1 in 13,983,816 chances of winning.\n",
      "========================\n",
      "You have a 0.0000715% chance of winning the big prize when you play 10 ticket(s).\n",
      "This means you have 1 in 1,398,382 chances of winning.\n",
      "========================\n",
      "You have a 0.0007151% chance of winning the big prize when you play 100 ticket(s).\n",
      "This means you have 1 in 139,838 chances of winning.\n",
      "========================\n",
      "You have a 0.0715112% chance of winning the big prize when you play 10000 ticket(s).\n",
      "This means you have 1 in 1,398 chances of winning.\n",
      "========================\n",
      "You have a 7.1511238% chance of winning the big prize when you play 1000000 ticket(s).\n",
      "This means you have 1 in 14 chances of winning.\n",
      "========================\n",
      "You have a 50.0000000% chance of winning the big prize when you play 6991908 ticket(s).\n",
      "This means you have 1 in 2 chances of winning.\n",
      "========================\n",
      "You have a 100.0000000% chance of winning the big prize when you play 13983816 ticket(s).\n",
      "This means you have 1 in 1 chances of winning.\n",
      "========================\n"
     ]
    }
   ],
   "source": [
    "for num_tickets in [1, 10, 100, 10000, 1000000, 6991908, 13983816]:\n",
    "    multi_ticket_probability(num_tickets)\n",
    "    print(\"========================\") #separates each output"
   ]
  },
  {
   "cell_type": "markdown",
   "metadata": {},
   "source": [
    "## Probability of Winning Smaller Prizes"
   ]
  },
  {
   "cell_type": "markdown",
   "metadata": {},
   "source": [
    "In most 6/49 lotteries, players may win smaller prizes if their ticket matches two, three, four, or five of the six numbers they draw.\n",
    "\n",
    "This means the user who uses the app may also want to know their chances of winning the smaller prizes.\n",
    "\n",
    "To achieve this, we will write a function that calculates the probabilities of having **exactly** two, three, four, or five winning numbers.\n",
    "\n",
    "Here are a few things we will consider while writing the code:\n",
    "- The user will input:\n",
    " - 6 dfferent numbers from beteen 1 and 49.\n",
    " - an integer between 2 and 5 to represent the expected number of winning numbers.\n",
    "- The function will print a message about the probability of having the inputted number of winning numbers"
   ]
  },
  {
   "cell_type": "code",
   "execution_count": 14,
   "metadata": {},
   "outputs": [],
   "source": [
    "def probability_less_6(num_expected_winning_num):\n",
    "    \n",
    "    number_of_combinations = combinations(6,num_expected_winning_num)\n",
    "    number_of_combinations_left = combinations(43, 6-num_expected_winning_num)\n",
    "    \n",
    "    tot_successful_outcomes = number_of_combinations * number_of_combinations_left\n",
    "    tot_possible_outcomes = combinations (49, 6)\n",
    "    \n",
    "    probability = tot_successful_outcomes / tot_possible_outcomes * 100\n",
    "    combination_rounded = round(tot_possible_outcomes/tot_successful_outcomes)\n",
    "    print('''You have a {:.7f}% chance of having exactly {} winning numbers with this ticket.\n",
    "This means you have 1 in {} chances of winning.'''.format(probability, num_expected_winning_num, combination_rounded))"
   ]
  },
  {
   "cell_type": "markdown",
   "metadata": {},
   "source": [
    "Let's test the function with all 4 possible inputs..."
   ]
  },
  {
   "cell_type": "code",
   "execution_count": 15,
   "metadata": {},
   "outputs": [
    {
     "name": "stdout",
     "output_type": "stream",
     "text": [
      "You have a 13.2378029% chance of having exactly 2 winning numbers with this ticket.\n",
      "This means you have 1 in 8 chances of winning.\n",
      "============================\n",
      "You have a 1.7650404% chance of having exactly 3 winning numbers with this ticket.\n",
      "This means you have 1 in 57 chances of winning.\n",
      "============================\n",
      "You have a 0.0968620% chance of having exactly 4 winning numbers with this ticket.\n",
      "This means you have 1 in 1032 chances of winning.\n",
      "============================\n",
      "You have a 0.0018450% chance of having exactly 5 winning numbers with this ticket.\n",
      "This means you have 1 in 54201 chances of winning.\n",
      "============================\n"
     ]
    }
   ],
   "source": [
    "for winning_num in [2,3,4,5]:\n",
    "    probability_less_6(winning_num)\n",
    "    print(\"============================\") #separates each output"
   ]
  },
  {
   "cell_type": "markdown",
   "metadata": {},
   "source": [
    "Let's make some modifications to the `probability_less_6()` function to calculate the probability of having **at least** 2, 3, 4, or 5 winning numbers.\n",
    "\n",
    "For every inputted number `n`, the new function will calculate the sum of the number of successful outcomes for having exactly n+1, n+2,...,6 winning numbers.\n",
    "\n",
    "For instance, the number of successful outcomes for having **at least** 3 winning numbers will be the sum of:\n",
    "- The number of successful outcomes for having exactly 3 winning numbers.\n",
    "- The number of successful outcomes for having exactly 4 winning numbers.\n",
    "- The number of successful outcomes for having exactly 5 winning numbers.\n",
    "- The number of successful outcomes for having exactly 6 winning numbers."
   ]
  },
  {
   "cell_type": "code",
   "execution_count": 16,
   "metadata": {},
   "outputs": [],
   "source": [
    "def probability_at_least(n):\n",
    "    \n",
    "    tot_successful_outcomes = 0\n",
    "    for i in range(n,7):\n",
    "        number_of_combinations = combinations(6,i)\n",
    "        number_of_combinations_left = combinations(43, 6-i)\n",
    "        successful_outcomes = number_of_combinations * number_of_combinations_left\n",
    "        tot_successful_outcomes = tot_successful_outcomes + successful_outcomes\n",
    "    \n",
    "    tot_possible_outcomes = combinations(49, 6)\n",
    "    \n",
    "    probability = tot_successful_outcomes / tot_possible_outcomes * 100\n",
    "    combination_rounded = round(tot_possible_outcomes/tot_successful_outcomes)\n",
    "    print('''You have a {:.7f}% chance of having at least {} winning numbers with this ticket.\n",
    "This means you have 1 in {} chances of winning'''.format(probability, n, combination_rounded))"
   ]
  },
  {
   "cell_type": "markdown",
   "metadata": {},
   "source": [
    "We will now test the `probability_at_least()` function with all 4 possible inputs..."
   ]
  },
  {
   "cell_type": "code",
   "execution_count": 17,
   "metadata": {},
   "outputs": [
    {
     "name": "stdout",
     "output_type": "stream",
     "text": [
      "You have a 15.1015574% chance of having at least 2 winning numbers with this ticket.\n",
      "This means you have 1 in 7 chances of winning\n",
      "============================\n",
      "You have a 1.8637545% chance of having at least 3 winning numbers with this ticket.\n",
      "This means you have 1 in 54 chances of winning\n",
      "============================\n",
      "You have a 0.0987141% chance of having at least 4 winning numbers with this ticket.\n",
      "This means you have 1 in 1013 chances of winning\n",
      "============================\n",
      "You have a 0.0018521% chance of having at least 5 winning numbers with this ticket.\n",
      "This means you have 1 in 53992 chances of winning\n",
      "============================\n"
     ]
    }
   ],
   "source": [
    "for winning_num in [2,3,4,5]:\n",
    "    probability_at_least(winning_num)\n",
    "    print(\"============================\")"
   ]
  },
  {
   "cell_type": "markdown",
   "metadata": {
    "collapsed": true
   },
   "source": [
    "## Observation/Results"
   ]
  },
  {
   "cell_type": "markdown",
   "metadata": {},
   "source": [
    "Here are the questions we started with and the answers we got from our analysis:\n",
    "- **What is the probability that I will win the big prize with just one ticket?**\n",
    "\n",
    "    From our analysis, you are over 400,000 times more likely to become a millionaire from making investments or running  a business in America than you are to win the big prize with a single ticket ([source](https://www.fool.com/slideshow/25-things-more-likely-happen-you-winning-lottery/?slide=26)).\n",
    "    \n",
    "    \n",
    "- **What is the probability that I will win the big prize if I play multiple tickets?**\n",
    "\n",
    "    The chance of winning the big prize increases with increasing number of tickets played. But the chance only increases *significantly* with a *significant* amount of tickets; which will cost you a fortune. \n",
    "    \n",
    "    Given that [a combination costs $3](https://en.wikipedia.org/wiki/Lotto_6/49#Gameplay):\n",
    "    \n",
    " - 3 million dollars worth of tickets will only give you a 7.2 % chance.\n",
    " - You will need about 20 million dollars worth of tickets to get a 50% chance at winning.\n",
    " \n",
    "    \n",
    "- **What is the probability that I will win smaller prizes?**\n",
    "    \n",
    "    The probability of winning smaller prizes is relatively higher with a smaller number of expected winning numbers.\n",
    "    You stand a better chance of having exactly 2 winning numbers (13.238%) than having exactly 5 winning numbers (0.002%).\n",
    "    \n",
    "\n",
    "- **What is the probability that I will have at least five winning numbers on just one winning ticket?**\n",
    "\n",
    "    You have 1 in 53,992 chances of having **at least** 5 winning numbers on a ticket. This means you are 5 times more likely to win an Oscar award than you are to have at least 5 winning numbers on a 6/49 lottery ticket. So, enrolling in acting classes may be a better investment than buying lottery tickets ([source](https://finance.yahoo.com/news/35-things-more-likely-happen-111452908.html?guccounter=1&guce_referrer=aHR0cHM6Ly93d3cuZ29vZ2xlLmNvbS8&guce_referrer_sig=AQAAAHQegGjCOHuC3tGufoyZ5lxokvqzsqS_Z0AtJnWKLfkmKPIUvlq12DuwZchD4GDgLzGtjpQ_8dsD15TFQ2Fbda9z3OhgEYJPwi398HdV3ENFYycJV2J4qZRXkP7F4Osizrl3vEPOcns5k96toe4Jxwl47Xa7zSZ2-W0im_m5WPiL)).\n"
   ]
  },
  {
   "cell_type": "markdown",
   "metadata": {},
   "source": [
    "## Conclusion"
   ]
  },
  {
   "cell_type": "markdown",
   "metadata": {},
   "source": [
    "We started out in this project with the goal to write the logic for an app that provides lottery addicts with better estimates of their chances of winning the lottery.\n",
    "\n",
    "To achieve this, we successfully developed the following functions:\n",
    "\n",
    "- `one_ticket_probability()` — to calculate the probability of winning the big prize with just one ticket.\n",
    "- `check_historical_occurrence()` — to check if a certain combination has ever occurred in the Canada lottery data set.\n",
    "- `multi_ticket_probability()` — to calculate the probability of winning the big prize with any number of tickets up to 13,983,816 tickets.\n",
    "- `probability_less_6()` — to calculate the probability of having **exactly** two, three, four or five winning numbers so as to win smaller prizes.\n",
    "- `probability_at_least()` — to calculate the probability of having **at least** two, three, four or five winning numbers so as to win smaller prizes."
   ]
  }
 ],
 "metadata": {
  "kernelspec": {
   "display_name": "Python 3",
   "language": "python",
   "name": "python3"
  },
  "language_info": {
   "codemirror_mode": {
    "name": "ipython",
    "version": 3
   },
   "file_extension": ".py",
   "mimetype": "text/x-python",
   "name": "python",
   "nbconvert_exporter": "python",
   "pygments_lexer": "ipython3",
   "version": "3.8.5"
  }
 },
 "nbformat": 4,
 "nbformat_minor": 2
}
